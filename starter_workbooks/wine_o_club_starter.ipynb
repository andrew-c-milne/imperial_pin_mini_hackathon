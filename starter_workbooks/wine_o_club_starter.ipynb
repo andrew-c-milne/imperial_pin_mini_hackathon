{
 "cells": [
  {
   "cell_type": "code",
   "execution_count": 1,
   "source": [
    "import pandas as pd"
   ],
   "outputs": [],
   "metadata": {}
  },
  {
   "cell_type": "code",
   "execution_count": null,
   "source": [
    "df = pd.read_csv('winequality_train_test_set.csv')"
   ],
   "outputs": [],
   "metadata": {}
  }
 ],
 "metadata": {
  "orig_nbformat": 4,
  "language_info": {
   "name": "python",
   "version": "3.7.1",
   "mimetype": "text/x-python",
   "codemirror_mode": {
    "name": "ipython",
    "version": 3
   },
   "pygments_lexer": "ipython3",
   "nbconvert_exporter": "python",
   "file_extension": ".py"
  },
  "kernelspec": {
   "name": "python3",
   "display_name": "Python 3.7.1 64-bit ('venv': venv)"
  },
  "interpreter": {
   "hash": "62f7df3f86f932b72eacbc8072bd4f03c6b5976859aacd6567f1ac98940fc02b"
  }
 },
 "nbformat": 4,
 "nbformat_minor": 2
}