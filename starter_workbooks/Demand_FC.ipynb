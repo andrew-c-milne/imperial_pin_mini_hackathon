{
 "cells": [
  {
   "cell_type": "markdown",
   "id": "377577b7",
   "metadata": {
    "slideshow": {
     "slide_type": "slide"
    }
   },
   "source": [
    "# Imperial PIN \n",
    "## September Meetup\n",
    "\n",
    "## Gasoline Demand Forecasting"
   ]
  },
  {
   "cell_type": "markdown",
   "id": "7a7f10a1",
   "metadata": {
    "slideshow": {
     "slide_type": "slide"
    }
   },
   "source": [
    "# Gasoline Demand Forecasting Task\n",
    "\n",
    "The purpose of this month's meeting is introduce a mini-competition to forecast weekly US gasoline demand. We will be using real volume data from the [EIA Website](https://www.eia.gov/opendata/qb.php?category=714803)"
   ]
  },
  {
   "cell_type": "markdown",
   "id": "69618adf",
   "metadata": {
    "slideshow": {
     "slide_type": "slide"
    }
   },
   "source": [
    "# Background\n",
    "\n",
    "The US Energy Information Agency publishes refined product production, import, export and inventory data every Wednesday for the week prior (Friday to Thursday). This is then used to calculate the implied demand ($D = P+I-E-\\Delta I$) which is a major driver of gasoline prices across North America."
   ]
  },
  {
   "cell_type": "code",
   "execution_count": 1,
   "id": "d6569955",
   "metadata": {
    "slideshow": {
     "slide_type": "skip"
    }
   },
   "outputs": [],
   "source": [
    "%load_ext autoreload\n",
    "%autoreload 2\n",
    "%matplotlib inline\n",
    "import narwhal as nw\n",
    "import pandas as pd\n",
    "import plotly.graph_objects as go\n",
    "import numpy as np\n",
    "import matplotlib.pyplot as plt\n",
    "\n",
    "plt.rcParams[\"figure.figsize\"] = (15, 7)\n",
    "plt.style.use('ggplot')\n",
    "\n",
    "# import matplotlib as mpl\n",
    "# sorted(mpl.style.available)\n",
    "\n",
    "from narwhal.get_data import hana_utils as hu \n",
    "\n",
    "up = nw.set_options(pass_file='../../user.json')\n",
    "nw.set_proxy(\"iboss\")\n",
    "\n",
    "pd.set_option('display.float_format', lambda x: '%.5f' % x) # pandas\n",
    "np.set_printoptions(precision=5, suppress=True) # numpy"
   ]
  },
  {
   "cell_type": "code",
   "execution_count": 2,
   "id": "6e4a7c3d",
   "metadata": {
    "slideshow": {
     "slide_type": "skip"
    }
   },
   "outputs": [
    {
     "data": {
      "text/html": [
       "<div>\n",
       "<style scoped>\n",
       "    .dataframe tbody tr th:only-of-type {\n",
       "        vertical-align: middle;\n",
       "    }\n",
       "\n",
       "    .dataframe tbody tr th {\n",
       "        vertical-align: top;\n",
       "    }\n",
       "\n",
       "    .dataframe thead th {\n",
       "        text-align: right;\n",
       "    }\n",
       "</style>\n",
       "<table border=\"1\" class=\"dataframe\">\n",
       "  <thead>\n",
       "    <tr style=\"text-align: right;\">\n",
       "      <th>Table Name</th>\n",
       "      <th>U.S. Ending Stocks of Finished Motor Gasoline, Weekly</th>\n",
       "      <th>U.S. Exports of Finished Motor Gasoline, Weekly</th>\n",
       "      <th>U.S. Imports of Finished Motor Gasoline, Weekly</th>\n",
       "      <th>U.S. Refiner and Blender Net Production of Finished Motor Gasoline, Weekly</th>\n",
       "      <th>Stock Change</th>\n",
       "    </tr>\n",
       "    <tr>\n",
       "      <th>Date</th>\n",
       "      <th></th>\n",
       "      <th></th>\n",
       "      <th></th>\n",
       "      <th></th>\n",
       "      <th></th>\n",
       "    </tr>\n",
       "  </thead>\n",
       "  <tbody>\n",
       "    <tr>\n",
       "      <th>1982-08-20</th>\n",
       "      <td>NaN</td>\n",
       "      <td>NaN</td>\n",
       "      <td>NaN</td>\n",
       "      <td>43519.00000</td>\n",
       "      <td>NaN</td>\n",
       "    </tr>\n",
       "    <tr>\n",
       "      <th>1982-08-27</th>\n",
       "      <td>NaN</td>\n",
       "      <td>NaN</td>\n",
       "      <td>NaN</td>\n",
       "      <td>43834.00000</td>\n",
       "      <td>NaN</td>\n",
       "    </tr>\n",
       "    <tr>\n",
       "      <th>1982-09-24</th>\n",
       "      <td>NaN</td>\n",
       "      <td>NaN</td>\n",
       "      <td>NaN</td>\n",
       "      <td>45521.00000</td>\n",
       "      <td>NaN</td>\n",
       "    </tr>\n",
       "    <tr>\n",
       "      <th>1982-10-01</th>\n",
       "      <td>NaN</td>\n",
       "      <td>NaN</td>\n",
       "      <td>NaN</td>\n",
       "      <td>45444.00000</td>\n",
       "      <td>NaN</td>\n",
       "    </tr>\n",
       "    <tr>\n",
       "      <th>1982-10-08</th>\n",
       "      <td>NaN</td>\n",
       "      <td>NaN</td>\n",
       "      <td>NaN</td>\n",
       "      <td>43960.00000</td>\n",
       "      <td>NaN</td>\n",
       "    </tr>\n",
       "    <tr>\n",
       "      <th>...</th>\n",
       "      <td>...</td>\n",
       "      <td>...</td>\n",
       "      <td>...</td>\n",
       "      <td>...</td>\n",
       "      <td>...</td>\n",
       "    </tr>\n",
       "    <tr>\n",
       "      <th>2021-08-20</th>\n",
       "      <td>18197.00000</td>\n",
       "      <td>6377.00000</td>\n",
       "      <td>490.00000</td>\n",
       "      <td>69790.00000</td>\n",
       "      <td>-1152.00000</td>\n",
       "    </tr>\n",
       "    <tr>\n",
       "      <th>2021-08-27</th>\n",
       "      <td>19408.00000</td>\n",
       "      <td>3262.00000</td>\n",
       "      <td>2324.00000</td>\n",
       "      <td>69419.00000</td>\n",
       "      <td>1211.00000</td>\n",
       "    </tr>\n",
       "    <tr>\n",
       "      <th>2021-09-03</th>\n",
       "      <td>18729.00000</td>\n",
       "      <td>5138.00000</td>\n",
       "      <td>861.00000</td>\n",
       "      <td>67067.00000</td>\n",
       "      <td>-679.00000</td>\n",
       "    </tr>\n",
       "    <tr>\n",
       "      <th>2021-09-10</th>\n",
       "      <td>17435.00000</td>\n",
       "      <td>4438.00000</td>\n",
       "      <td>497.00000</td>\n",
       "      <td>66955.00000</td>\n",
       "      <td>-1294.00000</td>\n",
       "    </tr>\n",
       "    <tr>\n",
       "      <th>2021-09-17</th>\n",
       "      <td>20304.00000</td>\n",
       "      <td>4347.00000</td>\n",
       "      <td>1995.00000</td>\n",
       "      <td>67291.00000</td>\n",
       "      <td>2869.00000</td>\n",
       "    </tr>\n",
       "  </tbody>\n",
       "</table>\n",
       "<p>2034 rows × 5 columns</p>\n",
       "</div>"
      ],
      "text/plain": [
       "Table Name  U.S. Ending Stocks of Finished Motor Gasoline, Weekly  \\\n",
       "Date                                                                \n",
       "1982-08-20                                                    NaN   \n",
       "1982-08-27                                                    NaN   \n",
       "1982-09-24                                                    NaN   \n",
       "1982-10-01                                                    NaN   \n",
       "1982-10-08                                                    NaN   \n",
       "...                                                           ...   \n",
       "2021-08-20                                            18197.00000   \n",
       "2021-08-27                                            19408.00000   \n",
       "2021-09-03                                            18729.00000   \n",
       "2021-09-10                                            17435.00000   \n",
       "2021-09-17                                            20304.00000   \n",
       "\n",
       "Table Name  U.S. Exports of Finished Motor Gasoline, Weekly  \\\n",
       "Date                                                          \n",
       "1982-08-20                                              NaN   \n",
       "1982-08-27                                              NaN   \n",
       "1982-09-24                                              NaN   \n",
       "1982-10-01                                              NaN   \n",
       "1982-10-08                                              NaN   \n",
       "...                                                     ...   \n",
       "2021-08-20                                       6377.00000   \n",
       "2021-08-27                                       3262.00000   \n",
       "2021-09-03                                       5138.00000   \n",
       "2021-09-10                                       4438.00000   \n",
       "2021-09-17                                       4347.00000   \n",
       "\n",
       "Table Name  U.S. Imports of Finished Motor Gasoline, Weekly  \\\n",
       "Date                                                          \n",
       "1982-08-20                                              NaN   \n",
       "1982-08-27                                              NaN   \n",
       "1982-09-24                                              NaN   \n",
       "1982-10-01                                              NaN   \n",
       "1982-10-08                                              NaN   \n",
       "...                                                     ...   \n",
       "2021-08-20                                        490.00000   \n",
       "2021-08-27                                       2324.00000   \n",
       "2021-09-03                                        861.00000   \n",
       "2021-09-10                                        497.00000   \n",
       "2021-09-17                                       1995.00000   \n",
       "\n",
       "Table Name  U.S. Refiner and Blender Net Production of Finished Motor Gasoline, Weekly  \\\n",
       "Date                                                                                     \n",
       "1982-08-20                                                                 43519.00000   \n",
       "1982-08-27                                                                 43834.00000   \n",
       "1982-09-24                                                                 45521.00000   \n",
       "1982-10-01                                                                 45444.00000   \n",
       "1982-10-08                                                                 43960.00000   \n",
       "...                                                                                ...   \n",
       "2021-08-20                                                                 69790.00000   \n",
       "2021-08-27                                                                 69419.00000   \n",
       "2021-09-03                                                                 67067.00000   \n",
       "2021-09-10                                                                 66955.00000   \n",
       "2021-09-17                                                                 67291.00000   \n",
       "\n",
       "Table Name  Stock Change  \n",
       "Date                      \n",
       "1982-08-20           NaN  \n",
       "1982-08-27           NaN  \n",
       "1982-09-24           NaN  \n",
       "1982-10-01           NaN  \n",
       "1982-10-08           NaN  \n",
       "...                  ...  \n",
       "2021-08-20   -1152.00000  \n",
       "2021-08-27    1211.00000  \n",
       "2021-09-03    -679.00000  \n",
       "2021-09-10   -1294.00000  \n",
       "2021-09-17    2869.00000  \n",
       "\n",
       "[2034 rows x 5 columns]"
      ]
     },
     "execution_count": 2,
     "metadata": {},
     "output_type": "execute_result"
    }
   ],
   "source": [
    "eia_tbl = dict(\n",
    "    production='PET.W_EPM0F_YPR_NUS_MBBLD.W', #https://www.eia.gov/opendata/qb.php?category=296963&sdid=PET.W_EPM0F_YPR_NUS_MBBLD.W\n",
    "    imports='PET.W_EPM0F_IM0_NUS-Z00_MBBLD.W', #https://www.eia.gov/opendata/qb.php?category=314099&sdid=PET.W_EPM0F_IM0_NUS-Z00_MBBLD.W\n",
    "    exports='PET.W_EPM0F_EEX_NUS-Z00_MBBLD.W', #https://www.eia.gov/opendata/qb.php?category=314099&sdid=PET.W_EPM0F_EEX_NUS-Z00_MBBLD.W\n",
    "    inventory_change='PET.WGFSTUS1.W' #https://www.eia.gov/opendata/qb.php?category=388195&sdid=PET.WGFSTUS1.W\n",
    ")\n",
    "\n",
    "df = nw.get_data.get_eia(up['eia'], list(eia_tbl.values()))\n",
    "df.Date = pd.to_datetime(df.Date)\n",
    "df.Volume = pd.to_numeric(df.Volume)\n",
    "df = df[['Table Name', 'Date', 'Volume']].set_index(['Table Name', 'Date']).unstack(level=0).droplevel(0,1)\n",
    "df.iloc[:,1:4] *= 7\n",
    "df['Stock Change'] = df.iloc[:,0].diff()\n",
    "\n",
    "df"
   ]
  },
  {
   "cell_type": "code",
   "execution_count": 3,
   "id": "e32ab9d0",
   "metadata": {
    "slideshow": {
     "slide_type": "skip"
    }
   },
   "outputs": [],
   "source": [
    "df['Demand'] = df.iloc[:,3] + df.iloc[:,2] - df.iloc[:,1] - df.iloc[:,4]\n",
    "df = df.dropna()"
   ]
  },
  {
   "cell_type": "markdown",
   "id": "cc3fd5eb",
   "metadata": {
    "slideshow": {
     "slide_type": "slide"
    }
   },
   "source": [
    "# Data"
   ]
  },
  {
   "cell_type": "code",
   "execution_count": 4,
   "id": "19d27900",
   "metadata": {
    "slideshow": {
     "slide_type": "fragment"
    }
   },
   "outputs": [
    {
     "data": {
      "text/html": [
       "<div>\n",
       "<style scoped>\n",
       "    .dataframe tbody tr th:only-of-type {\n",
       "        vertical-align: middle;\n",
       "    }\n",
       "\n",
       "    .dataframe tbody tr th {\n",
       "        vertical-align: top;\n",
       "    }\n",
       "\n",
       "    .dataframe thead th {\n",
       "        text-align: right;\n",
       "    }\n",
       "</style>\n",
       "<table border=\"1\" class=\"dataframe\">\n",
       "  <thead>\n",
       "    <tr style=\"text-align: right;\">\n",
       "      <th>Table Name</th>\n",
       "      <th>U.S. Ending Stocks of Finished Motor Gasoline, Weekly</th>\n",
       "      <th>U.S. Exports of Finished Motor Gasoline, Weekly</th>\n",
       "      <th>U.S. Imports of Finished Motor Gasoline, Weekly</th>\n",
       "      <th>U.S. Refiner and Blender Net Production of Finished Motor Gasoline, Weekly</th>\n",
       "      <th>Stock Change</th>\n",
       "      <th>Demand</th>\n",
       "    </tr>\n",
       "    <tr>\n",
       "      <th>Date</th>\n",
       "      <th></th>\n",
       "      <th></th>\n",
       "      <th></th>\n",
       "      <th></th>\n",
       "      <th></th>\n",
       "      <th></th>\n",
       "    </tr>\n",
       "  </thead>\n",
       "  <tbody>\n",
       "    <tr>\n",
       "      <th>2010-06-04</th>\n",
       "      <td>77189.00000</td>\n",
       "      <td>1085.00000</td>\n",
       "      <td>224.00000</td>\n",
       "      <td>63259.00000</td>\n",
       "      <td>-656.00000</td>\n",
       "      <td>63054.00000</td>\n",
       "    </tr>\n",
       "    <tr>\n",
       "      <th>2010-06-11</th>\n",
       "      <td>77388.00000</td>\n",
       "      <td>1085.00000</td>\n",
       "      <td>952.00000</td>\n",
       "      <td>64386.00000</td>\n",
       "      <td>199.00000</td>\n",
       "      <td>64054.00000</td>\n",
       "    </tr>\n",
       "    <tr>\n",
       "      <th>2010-06-18</th>\n",
       "      <td>77749.00000</td>\n",
       "      <td>1085.00000</td>\n",
       "      <td>1302.00000</td>\n",
       "      <td>64981.00000</td>\n",
       "      <td>361.00000</td>\n",
       "      <td>64837.00000</td>\n",
       "    </tr>\n",
       "    <tr>\n",
       "      <th>2010-06-25</th>\n",
       "      <td>76917.00000</td>\n",
       "      <td>1085.00000</td>\n",
       "      <td>868.00000</td>\n",
       "      <td>65660.00000</td>\n",
       "      <td>-832.00000</td>\n",
       "      <td>66275.00000</td>\n",
       "    </tr>\n",
       "    <tr>\n",
       "      <th>2010-07-02</th>\n",
       "      <td>76267.00000</td>\n",
       "      <td>1085.00000</td>\n",
       "      <td>1008.00000</td>\n",
       "      <td>65856.00000</td>\n",
       "      <td>-650.00000</td>\n",
       "      <td>66429.00000</td>\n",
       "    </tr>\n",
       "    <tr>\n",
       "      <th>...</th>\n",
       "      <td>...</td>\n",
       "      <td>...</td>\n",
       "      <td>...</td>\n",
       "      <td>...</td>\n",
       "      <td>...</td>\n",
       "      <td>...</td>\n",
       "    </tr>\n",
       "    <tr>\n",
       "      <th>2021-08-20</th>\n",
       "      <td>18197.00000</td>\n",
       "      <td>6377.00000</td>\n",
       "      <td>490.00000</td>\n",
       "      <td>69790.00000</td>\n",
       "      <td>-1152.00000</td>\n",
       "      <td>65055.00000</td>\n",
       "    </tr>\n",
       "    <tr>\n",
       "      <th>2021-08-27</th>\n",
       "      <td>19408.00000</td>\n",
       "      <td>3262.00000</td>\n",
       "      <td>2324.00000</td>\n",
       "      <td>69419.00000</td>\n",
       "      <td>1211.00000</td>\n",
       "      <td>67270.00000</td>\n",
       "    </tr>\n",
       "    <tr>\n",
       "      <th>2021-09-03</th>\n",
       "      <td>18729.00000</td>\n",
       "      <td>5138.00000</td>\n",
       "      <td>861.00000</td>\n",
       "      <td>67067.00000</td>\n",
       "      <td>-679.00000</td>\n",
       "      <td>63469.00000</td>\n",
       "    </tr>\n",
       "    <tr>\n",
       "      <th>2021-09-10</th>\n",
       "      <td>17435.00000</td>\n",
       "      <td>4438.00000</td>\n",
       "      <td>497.00000</td>\n",
       "      <td>66955.00000</td>\n",
       "      <td>-1294.00000</td>\n",
       "      <td>64308.00000</td>\n",
       "    </tr>\n",
       "    <tr>\n",
       "      <th>2021-09-17</th>\n",
       "      <td>20304.00000</td>\n",
       "      <td>4347.00000</td>\n",
       "      <td>1995.00000</td>\n",
       "      <td>67291.00000</td>\n",
       "      <td>2869.00000</td>\n",
       "      <td>62070.00000</td>\n",
       "    </tr>\n",
       "  </tbody>\n",
       "</table>\n",
       "<p>590 rows × 6 columns</p>\n",
       "</div>"
      ],
      "text/plain": [
       "Table Name  U.S. Ending Stocks of Finished Motor Gasoline, Weekly  \\\n",
       "Date                                                                \n",
       "2010-06-04                                            77189.00000   \n",
       "2010-06-11                                            77388.00000   \n",
       "2010-06-18                                            77749.00000   \n",
       "2010-06-25                                            76917.00000   \n",
       "2010-07-02                                            76267.00000   \n",
       "...                                                           ...   \n",
       "2021-08-20                                            18197.00000   \n",
       "2021-08-27                                            19408.00000   \n",
       "2021-09-03                                            18729.00000   \n",
       "2021-09-10                                            17435.00000   \n",
       "2021-09-17                                            20304.00000   \n",
       "\n",
       "Table Name  U.S. Exports of Finished Motor Gasoline, Weekly  \\\n",
       "Date                                                          \n",
       "2010-06-04                                       1085.00000   \n",
       "2010-06-11                                       1085.00000   \n",
       "2010-06-18                                       1085.00000   \n",
       "2010-06-25                                       1085.00000   \n",
       "2010-07-02                                       1085.00000   \n",
       "...                                                     ...   \n",
       "2021-08-20                                       6377.00000   \n",
       "2021-08-27                                       3262.00000   \n",
       "2021-09-03                                       5138.00000   \n",
       "2021-09-10                                       4438.00000   \n",
       "2021-09-17                                       4347.00000   \n",
       "\n",
       "Table Name  U.S. Imports of Finished Motor Gasoline, Weekly  \\\n",
       "Date                                                          \n",
       "2010-06-04                                        224.00000   \n",
       "2010-06-11                                        952.00000   \n",
       "2010-06-18                                       1302.00000   \n",
       "2010-06-25                                        868.00000   \n",
       "2010-07-02                                       1008.00000   \n",
       "...                                                     ...   \n",
       "2021-08-20                                        490.00000   \n",
       "2021-08-27                                       2324.00000   \n",
       "2021-09-03                                        861.00000   \n",
       "2021-09-10                                        497.00000   \n",
       "2021-09-17                                       1995.00000   \n",
       "\n",
       "Table Name  U.S. Refiner and Blender Net Production of Finished Motor Gasoline, Weekly  \\\n",
       "Date                                                                                     \n",
       "2010-06-04                                                                 63259.00000   \n",
       "2010-06-11                                                                 64386.00000   \n",
       "2010-06-18                                                                 64981.00000   \n",
       "2010-06-25                                                                 65660.00000   \n",
       "2010-07-02                                                                 65856.00000   \n",
       "...                                                                                ...   \n",
       "2021-08-20                                                                 69790.00000   \n",
       "2021-08-27                                                                 69419.00000   \n",
       "2021-09-03                                                                 67067.00000   \n",
       "2021-09-10                                                                 66955.00000   \n",
       "2021-09-17                                                                 67291.00000   \n",
       "\n",
       "Table Name  Stock Change      Demand  \n",
       "Date                                  \n",
       "2010-06-04    -656.00000 63054.00000  \n",
       "2010-06-11     199.00000 64054.00000  \n",
       "2010-06-18     361.00000 64837.00000  \n",
       "2010-06-25    -832.00000 66275.00000  \n",
       "2010-07-02    -650.00000 66429.00000  \n",
       "...                  ...         ...  \n",
       "2021-08-20   -1152.00000 65055.00000  \n",
       "2021-08-27    1211.00000 67270.00000  \n",
       "2021-09-03    -679.00000 63469.00000  \n",
       "2021-09-10   -1294.00000 64308.00000  \n",
       "2021-09-17    2869.00000 62070.00000  \n",
       "\n",
       "[590 rows x 6 columns]"
      ]
     },
     "execution_count": 4,
     "metadata": {},
     "output_type": "execute_result"
    }
   ],
   "source": [
    "df"
   ]
  },
  {
   "cell_type": "code",
   "execution_count": 6,
   "id": "d307195f",
   "metadata": {},
   "outputs": [],
   "source": [
    "df.to_csv('pin_demand.csv')"
   ]
  },
  {
   "cell_type": "markdown",
   "id": "fe482e7b",
   "metadata": {
    "slideshow": {
     "slide_type": "slide"
    }
   },
   "source": [
    "# Demand"
   ]
  },
  {
   "cell_type": "code",
   "execution_count": 5,
   "id": "47ca79cd",
   "metadata": {
    "slideshow": {
     "slide_type": "fragment"
    }
   },
   "outputs": [
    {
     "data": {
      "image/png": "[encoded data removed]",
      "text/plain": [
       "<Figure size 1080x504 with 1 Axes>"
      ]
     },
     "metadata": {},
     "output_type": "display_data"
    }
   ],
   "source": [
    "df.Demand.plot(title='US Finished Motor Gasoline Demand', ylabel='Thousands of Barrels');"
   ]
  },
  {
   "cell_type": "markdown",
   "id": "63738d61",
   "metadata": {
    "slideshow": {
     "slide_type": "slide"
    }
   },
   "source": [
    "# Forecast\n",
    "\n",
    "Our task is to forecast the weekly demand in thousands of barrels for the weeks between Oct 20 through Nov 3. We will ask for your 3 week forecast on Oct 15. Once Oct 15th passes, your forecast will be \"locked.\" i.e. No updates based on new data is allowed. This will be team based with a max team of 4."
   ]
  },
  {
   "cell_type": "markdown",
   "id": "04db3c4f",
   "metadata": {
    "slideshow": {
     "slide_type": "slide"
    }
   },
   "source": [
    "# Time Series Forecasting Pitfalls\n",
    "\n",
    "1. Do **not** let the future bleed into your current forecast. For example, when training your model, if you're forecasting today's volumes using COVID data but you're using today's COVID numbers, you've let the \"future\" bleed into your forecast. Instead you should be using COVID from 3 weeks ago if you're building a 3 week forecast.\n",
    "1. There is a strong AutoRegressive component to this demand data (i.e. today's price is correlated with yesterday's price).\n",
    "1. There is a strong seasonal component to this demand data."
   ]
  },
  {
   "cell_type": "markdown",
   "id": "2823c824",
   "metadata": {
    "slideshow": {
     "slide_type": "slide"
    }
   },
   "source": [
    "# Questions About this Data?\n",
    "\n",
    "If you're interested in participating please stay on the line and I will break up the group into teams of four to start working on this problem for the remainder of the time today."
   ]
  }
 ],
 "metadata": {
  "kernelspec": {
   "display_name": "Python 3",
   "language": "python",
   "name": "python3"
  },
  "language_info": {
   "codemirror_mode": {
    "name": "ipython",
    "version": 3
   },
   "file_extension": ".py",
   "mimetype": "text/x-python",
   "name": "python",
   "nbconvert_exporter": "python",
   "pygments_lexer": "ipython3",
   "version": "3.7.1"
  }
 },
 "nbformat": 4,
 "nbformat_minor": 5
}
